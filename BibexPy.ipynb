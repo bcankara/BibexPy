{
  "nbformat": 4,
  "nbformat_minor": 0,
  "metadata": {
    "colab": {
      "provenance": []
    },
    "kernelspec": {
      "name": "python3",
      "display_name": "Python 3"
    },
    "language_info": {
      "name": "python"
    }
  },
  "cells": [
    {
      "cell_type": "markdown",
      "source": [
        "# BibexPy Project: Installation & Basic Usage 🚀\n",
        "\n",
        "This notebook demonstrates how to run the BibexPy project on Google Colab. Follow these steps to get started:\n",
        "\n",
        "- **Clone the Repository** 📥  \n",
        "  Clone the GitHub repository to your Colab environment.\n",
        "\n",
        "- **Navigate to the Working Directory** 📂  \n",
        "  Change your directory to access the project files.\n",
        "\n",
        "- **Install Dependencies** 🔧  \n",
        "  Install all necessary packages required for the project.\n",
        "\n",
        "- **Run the Basic Usage Example** 🎯  \n",
        "  Execute `DataProcessor.py` to see the project in action.\n",
        "\n",
        "Enjoy exploring the project and happy coding! ✨\n"
      ],
      "metadata": {
        "id": "yZ5t8APMLQy3"
      }
    },
    {
      "cell_type": "code",
      "execution_count": 6,
      "metadata": {
        "colab": {
          "base_uri": "https://localhost:8080/"
        },
        "id": "8ZgFG-ZMLJ7-",
        "outputId": "061c2d6b-898b-459d-e825-100840933c17"
      },
      "outputs": [
        {
          "output_type": "stream",
          "name": "stdout",
          "text": [
            "fatal: destination path 'BibexPy' already exists and is not an empty directory.\n"
          ]
        }
      ],
      "source": [
        "!git clone https://github.com/bcankara/BibexPy.git\n",
        "%cd BibexPy\n",
        "!pip install -r requirements.txt"
      ]
    },
    {
      "cell_type": "code",
      "source": [
        "!python DataProcessor.py"
      ],
      "metadata": {
        "colab": {
          "base_uri": "https://localhost:8080/"
        },
        "id": "9TTZdVZnLbqM",
        "outputId": "9d06a700-0951-4292-80b3-57508d6f3e89"
      },
      "execution_count": null,
      "outputs": [
        {
          "output_type": "stream",
          "name": "stdout",
          "text": [
            "Database Merge Tool\n",
            "------------------\n",
            "\n",
            "Project Folders:\n",
            "1. Sample Project\n",
            "\n",
            "Select project number: 1\n",
            "\n",
            "Selected Project: Sample Project\n",
            "\n",
            "Previously merged raw files found. What would you like to do?\n",
            "1. Use previously merged files\n",
            "2. Perform new merge\n",
            "Your choice (1/2): 2\n",
            "\n",
            "Deleting old merged files...\n",
            "\n",
            "Merging process in progress...\n",
            "WoS files merged: wos_raw.txt\n",
            "\n",
            "Merging Scopus files...\n",
            "Scopus files merged: scp_raw.csv\n",
            "\n",
            "Processing WoS data...\n",
            "Data successfully saved to Workspace/Sample Project/Analysis_20250225_081939/Cell_Files/WoS.xlsx\n",
            "Converting WoS data to Excel format               [Completed]\n",
            "WoS data processing completed.\n",
            "\n",
            "Processing Scopus data...\n",
            "Data successfully saved to Workspace/Sample Project/Analysis_20250225_081939/Cell_Files/Scopus.xlsx\n",
            "Converting Scopus data to Excel format            [Completed]\n",
            "Scopus data processing completed.\n",
            "\n",
            "Merging process in progress...\n",
            "\n",
            "\u001b[36mStarting enhanced database merge...\u001b[0m\n",
            "\n",
            "\u001b[36mMerge Summary:\u001b[0m\n",
            "  \u001b[32m4119 records merged from 2 databases\u001b[0m\n",
            "  \u001b[33mTotal 6635 records, 2516 duplicates merged\u001b[0m\n",
            "\n",
            "Completing category fields Completed\n",
            "\n",
            "\u001b[36mSaving data...\u001b[0m\n",
            "\u001b[32mSave completed: Workspace/Sample Project/Analysis_20250225_081939/Cell_Files/Merged_Bib.xlsx\u001b[0m\n",
            "\n",
            "Converting data to VosViewer format...\n",
            "Successfully converted file to WoS format: 'Workspace/Sample Project/Analysis_20250225_081939/Text_Files/Merged_Vos.txt'\n",
            "VosViewer conversion completed.\n",
            "\n",
            "Enrichment Options:\n",
            "1. API Enrichment\n",
            "2. ML Enrichment (Experimental)\n",
            "3. API + ML Enrichment\n",
            "4. No Enrichment\n",
            "Select enrichment method (1/2/3/4): \n",
            "Program terminating...Traceback (most recent call last):\n",
            "  File \"/content/BibexPy/DataProcessor.py\", line 315, in main\n",
            "    choice = input(\"Select enrichment method (1/2/3/4): \")\n",
            "             ^^^^^^^^^^^^^^^^^^^^^^^^^^^^^^^^^^^^^^^^^^^^^\n",
            "KeyboardInterrupt\n",
            "\n",
            "During handling of the above exception, another exception occurred:\n",
            "\n",
            "Traceback (most recent call last):\n",
            "  File \"/content/BibexPy/DataProcessor.py\", line 1330, in <module>\n",
            "    main() \n",
            "    ^^^^^^\n",
            "  File \"/content/BibexPy/DataProcessor.py\", line 1327, in main\n",
            "    print(\"\\nProgram terminating...\")\n",
            "KeyboardInterrupt\n",
            "\u001b[0m^C\n"
          ]
        }
      ]
    }
  ]
}