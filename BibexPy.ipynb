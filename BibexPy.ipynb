{
  "nbformat": 4,
  "nbformat_minor": 0,
  "metadata": {
    "colab": {
      "provenance": []
    },
    "kernelspec": {
      "name": "python3",
      "display_name": "Python 3"
    },
    "language_info": {
      "name": "python"
    }
  },
  "cells": [
    {
      "cell_type": "markdown",
      "source": [
        "# BibexPy Project: Installation & Basic Usage 🚀\n",
        "\n",
        "This notebook demonstrates how to run the BibexPy project on Google Colab. Follow these steps to get started:\n",
        "\n",
        "- **Clone the Repository** 📥  \n",
        "  Clone the GitHub repository to your Colab environment.\n",
        "\n",
        "- **Navigate to the Working Directory** 📂  \n",
        "  Change your directory to access the project files.\n",
        "\n",
        "- **Install Dependencies** 🔧  \n",
        "  Install all necessary packages required for the project.\n",
        "\n",
        "- **Run the Basic Usage Example** 🎯  \n",
        "  Execute `DataProcessor.py` to see the project in action.\n",
        "\n",
        "Enjoy exploring the project and happy coding! ✨\n"
      ],
      "metadata": {
        "id": "yZ5t8APMLQy3"
      }
    },
    {
      "cell_type": "code",
      "source": [
        "import os\n",
        "import shutil\n",
        "\n",
        "# Check if the BibexPy directory exists\n",
        "if os.path.exists(\"BibexPy\"):\n",
        "    # Prompt the user for action\n",
        "    user_input = input(\"BibexPy directory already exists. Do you want to delete it and re-clone? (yes/no): \")\n",
        "\n",
        "    if user_input.lower() == \"yes\":\n",
        "        # Delete the existing BibexPy directory\n",
        "        shutil.rmtree(\"BibexPy\")\n",
        "        print(\"Existing BibexPy directory deleted.\")\n",
        "        # Clone the repository\n",
        "        !git clone https://github.com/bcankara/BibexPy.git BibexPy\n",
        "        print(\"BibexPy repository cloned successfully.\")\n",
        "    else:\n",
        "        print(\"Existing BibexPy directory will be used.\")\n",
        "else:\n",
        "    # Clone the repository\n",
        "    !git clone https://github.com/bcankara/BibexPy.git BibexPy\n",
        "    print(\"BibexPy repository cloned successfully.\")\n"
      ],
      "metadata": {
        "id": "m78IYshKXE-m"
      },
      "execution_count": null,
      "outputs": []
    },
    {
      "cell_type": "code",
      "source": [
        "%cd BibexPy\n",
        "!pip install -r requirements.txt"
      ],
      "metadata": {
        "id": "SSmy7PeOXB3r"
      },
      "execution_count": null,
      "outputs": []
    },
    {
      "cell_type": "code",
      "source": [
        "!python DataProcessor.py"
      ],
      "metadata": {
        "id": "9TTZdVZnLbqM"
      },
      "execution_count": null,
      "outputs": []
    }
  ]
}