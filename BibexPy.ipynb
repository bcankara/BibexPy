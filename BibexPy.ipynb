{
  "nbformat": 4,
  "nbformat_minor": 0,
  "metadata": {
    "colab": {
      "provenance": []
    },
    "kernelspec": {
      "name": "python3",
      "display_name": "Python 3"
    },
    "language_info": {
      "name": "python"
    }
  },
  "cells": [
    {
      "cell_type": "markdown",
      "source": [
        "# BibexPy Project: Installation & Basic Usage 🚀\n",
        "\n",
        "This notebook demonstrates how to run the BibexPy project on Google Colab. Follow these steps to get started:\n",
        "\n",
        "- **Clone the Repository** 📥  \n",
        "  Clone the GitHub repository to your Colab environment.\n",
        "\n",
        "- **Navigate to the Working Directory** 📂  \n",
        "  Change your directory to access the project files.\n",
        "\n",
        "- **Install Dependencies** 🔧  \n",
        "  Install all necessary packages required for the project.\n",
        "\n",
        "- **Run the Basic Usage Example** 🎯  \n",
        "  Execute `DataProcessor.py` to see the project in action.\n",
        "\n",
        "Enjoy exploring the project and happy coding! ✨\n"
      ],
      "metadata": {
        "id": "yZ5t8APMLQy3"
      }
    },
    {
      "cell_type": "code",
      "execution_count": null,
      "metadata": {
        "id": "8ZgFG-ZMLJ7-"
      },
      "outputs": [],
      "source": [
        "!git clone https://github.com/bcankara/BibexPy.git\n",
        "%cd BibexPy\n",
        "!pip install -r requirements.txt"
      ]
    },
    {
      "cell_type": "code",
      "source": [
        "!python DataProcessor.py"
      ],
      "metadata": {
        "id": "9TTZdVZnLbqM"
      },
      "execution_count": null,
      "outputs": []
    }
  ]
}