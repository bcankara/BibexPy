{
  "nbformat": 4,
  "nbformat_minor": 0,
  "metadata": {
    "colab": {
      "provenance": []
    },
    "kernelspec": {
      "name": "python3",
      "display_name": "Python 3"
    },
    "language_info": {
      "name": "python"
    }
  },
  "cells": [
    {
      "cell_type": "markdown",
      "source": [
        "# BibexPy Projesi: Kurulum ve Temel Kullanım\n",
        "\n",
        "Bu not defteri, GitHub üzerindeki BibexPy projesinin Colab ortamında çalıştırılmasına yönelik adımları içermektedir. Aşağıdaki hücreler sırasıyla; projenin klonlanması, çalışma dizinine geçiş, bağımlılıkların kurulması ve temel kullanımın (DataProcessor.py dosyasının çalıştırılması) gerçekleştirilmesini sağlamaktadır.\n"
      ],
      "metadata": {
        "id": "yZ5t8APMLQy3"
      }
    },
    {
      "cell_type": "code",
      "execution_count": 2,
      "metadata": {
        "colab": {
          "base_uri": "https://localhost:8080/"
        },
        "id": "8ZgFG-ZMLJ7-",
        "outputId": "d77dda1e-0d1e-4ae9-a8c2-5ddc1c1db477"
      },
      "outputs": [
        {
          "output_type": "stream",
          "name": "stdout",
          "text": [
            "fatal: destination path 'BibexPy' already exists and is not an empty directory.\n"
          ]
        }
      ],
      "source": [
        "!git clone https://github.com/bcankara/BibexPy.git"
      ]
    },
    {
      "cell_type": "code",
      "source": [
        "%cd BibexPy"
      ],
      "metadata": {
        "colab": {
          "base_uri": "https://localhost:8080/"
        },
        "id": "C4J-YxYILX1p",
        "outputId": "1dcae8bc-d9eb-4fb6-d9db-9e2b7dc8f3aa"
      },
      "execution_count": 3,
      "outputs": [
        {
          "output_type": "stream",
          "name": "stdout",
          "text": [
            "/content/BibexPy\n"
          ]
        }
      ]
    },
    {
      "cell_type": "code",
      "source": [
        "!pip install -r requirements.txt"
      ],
      "metadata": {
        "colab": {
          "base_uri": "https://localhost:8080/"
        },
        "id": "o9ZmxcFgLZsu",
        "outputId": "2d05d97c-6065-4d5e-e2aa-68ddbd0a732f"
      },
      "execution_count": 4,
      "outputs": [
        {
          "output_type": "stream",
          "name": "stdout",
          "text": [
            "Requirement already satisfied: pandas>=2.0.0 in /usr/local/lib/python3.11/dist-packages (from -r requirements.txt (line 2)) (2.2.2)\n",
            "Requirement already satisfied: numpy>=1.24.0 in /usr/local/lib/python3.11/dist-packages (from -r requirements.txt (line 3)) (1.26.4)\n",
            "Requirement already satisfied: openpyxl>=3.1.2 in /usr/local/lib/python3.11/dist-packages (from -r requirements.txt (line 4)) (3.1.5)\n",
            "Requirement already satisfied: scikit-learn>=1.3.0 in /usr/local/lib/python3.11/dist-packages (from -r requirements.txt (line 7)) (1.6.1)\n",
            "Requirement already satisfied: nltk>=3.8.1 in /usr/local/lib/python3.11/dist-packages (from -r requirements.txt (line 8)) (3.9.1)\n",
            "Requirement already satisfied: requests>=2.31.0 in /usr/local/lib/python3.11/dist-packages (from -r requirements.txt (line 11)) (2.32.3)\n",
            "Requirement already satisfied: urllib3>=2.0.0 in /usr/local/lib/python3.11/dist-packages (from -r requirements.txt (line 12)) (2.3.0)\n",
            "Requirement already satisfied: certifi>=2023.5.7 in /usr/local/lib/python3.11/dist-packages (from -r requirements.txt (line 13)) (2025.1.31)\n",
            "Collecting python-dotenv>=1.0.0 (from -r requirements.txt (line 14))\n",
            "  Downloading python_dotenv-1.0.1-py3-none-any.whl.metadata (23 kB)\n",
            "Requirement already satisfied: tqdm>=4.65.0 in /usr/local/lib/python3.11/dist-packages (from -r requirements.txt (line 17)) (4.67.1)\n",
            "Collecting colorama>=0.4.6 (from -r requirements.txt (line 18))\n",
            "  Downloading colorama-0.4.6-py2.py3-none-any.whl.metadata (17 kB)\n",
            "Collecting unidecode==1.3.6 (from -r requirements.txt (line 21))\n",
            "  Downloading Unidecode-1.3.6-py3-none-any.whl.metadata (13 kB)\n",
            "Requirement already satisfied: typing-extensions>=4.7.0 in /usr/local/lib/python3.11/dist-packages (from -r requirements.txt (line 22)) (4.12.2)\n",
            "Requirement already satisfied: python-dateutil>=2.8.2 in /usr/local/lib/python3.11/dist-packages (from pandas>=2.0.0->-r requirements.txt (line 2)) (2.8.2)\n",
            "Requirement already satisfied: pytz>=2020.1 in /usr/local/lib/python3.11/dist-packages (from pandas>=2.0.0->-r requirements.txt (line 2)) (2025.1)\n",
            "Requirement already satisfied: tzdata>=2022.7 in /usr/local/lib/python3.11/dist-packages (from pandas>=2.0.0->-r requirements.txt (line 2)) (2025.1)\n",
            "Requirement already satisfied: et-xmlfile in /usr/local/lib/python3.11/dist-packages (from openpyxl>=3.1.2->-r requirements.txt (line 4)) (2.0.0)\n",
            "Requirement already satisfied: scipy>=1.6.0 in /usr/local/lib/python3.11/dist-packages (from scikit-learn>=1.3.0->-r requirements.txt (line 7)) (1.13.1)\n",
            "Requirement already satisfied: joblib>=1.2.0 in /usr/local/lib/python3.11/dist-packages (from scikit-learn>=1.3.0->-r requirements.txt (line 7)) (1.4.2)\n",
            "Requirement already satisfied: threadpoolctl>=3.1.0 in /usr/local/lib/python3.11/dist-packages (from scikit-learn>=1.3.0->-r requirements.txt (line 7)) (3.5.0)\n",
            "Requirement already satisfied: click in /usr/local/lib/python3.11/dist-packages (from nltk>=3.8.1->-r requirements.txt (line 8)) (8.1.8)\n",
            "Requirement already satisfied: regex>=2021.8.3 in /usr/local/lib/python3.11/dist-packages (from nltk>=3.8.1->-r requirements.txt (line 8)) (2024.11.6)\n",
            "Requirement already satisfied: charset-normalizer<4,>=2 in /usr/local/lib/python3.11/dist-packages (from requests>=2.31.0->-r requirements.txt (line 11)) (3.4.1)\n",
            "Requirement already satisfied: idna<4,>=2.5 in /usr/local/lib/python3.11/dist-packages (from requests>=2.31.0->-r requirements.txt (line 11)) (3.10)\n",
            "Requirement already satisfied: six>=1.5 in /usr/local/lib/python3.11/dist-packages (from python-dateutil>=2.8.2->pandas>=2.0.0->-r requirements.txt (line 2)) (1.17.0)\n",
            "Downloading Unidecode-1.3.6-py3-none-any.whl (235 kB)\n",
            "\u001b[2K   \u001b[90m━━━━━━━━━━━━━━━━━━━━━━━━━━━━━━━━━━━━━━━━\u001b[0m \u001b[32m235.9/235.9 kB\u001b[0m \u001b[31m6.3 MB/s\u001b[0m eta \u001b[36m0:00:00\u001b[0m\n",
            "\u001b[?25hDownloading python_dotenv-1.0.1-py3-none-any.whl (19 kB)\n",
            "Downloading colorama-0.4.6-py2.py3-none-any.whl (25 kB)\n",
            "Installing collected packages: unidecode, python-dotenv, colorama\n",
            "Successfully installed colorama-0.4.6 python-dotenv-1.0.1 unidecode-1.3.6\n"
          ]
        }
      ]
    },
    {
      "cell_type": "code",
      "source": [
        "!python DataProcessor.py"
      ],
      "metadata": {
        "colab": {
          "base_uri": "https://localhost:8080/"
        },
        "id": "9TTZdVZnLbqM",
        "outputId": "9d06a700-0951-4292-80b3-57508d6f3e89"
      },
      "execution_count": 6,
      "outputs": [
        {
          "output_type": "stream",
          "name": "stdout",
          "text": [
            "Database Merge Tool\n",
            "------------------\n",
            "\n",
            "Project Folders:\n",
            "1. Sample Project\n",
            "\n",
            "Select project number: 1\n",
            "\n",
            "Selected Project: Sample Project\n",
            "\n",
            "Previously merged raw files found. What would you like to do?\n",
            "1. Use previously merged files\n",
            "2. Perform new merge\n",
            "Your choice (1/2): 2\n",
            "\n",
            "Deleting old merged files...\n",
            "\n",
            "Merging process in progress...\n",
            "WoS files merged: wos_raw.txt\n",
            "\n",
            "Merging Scopus files...\n",
            "Scopus files merged: scp_raw.csv\n",
            "\n",
            "Processing WoS data...\n",
            "Data successfully saved to Workspace/Sample Project/Analysis_20250225_081939/Cell_Files/WoS.xlsx\n",
            "Converting WoS data to Excel format               [Completed]\n",
            "WoS data processing completed.\n",
            "\n",
            "Processing Scopus data...\n",
            "Data successfully saved to Workspace/Sample Project/Analysis_20250225_081939/Cell_Files/Scopus.xlsx\n",
            "Converting Scopus data to Excel format            [Completed]\n",
            "Scopus data processing completed.\n",
            "\n",
            "Merging process in progress...\n",
            "\n",
            "\u001b[36mStarting enhanced database merge...\u001b[0m\n",
            "\n",
            "\u001b[36mMerge Summary:\u001b[0m\n",
            "  \u001b[32m4119 records merged from 2 databases\u001b[0m\n",
            "  \u001b[33mTotal 6635 records, 2516 duplicates merged\u001b[0m\n",
            "\n",
            "Completing category fields Completed\n",
            "\n",
            "\u001b[36mSaving data...\u001b[0m\n",
            "\u001b[32mSave completed: Workspace/Sample Project/Analysis_20250225_081939/Cell_Files/Merged_Bib.xlsx\u001b[0m\n",
            "\n",
            "Converting data to VosViewer format...\n",
            "Successfully converted file to WoS format: 'Workspace/Sample Project/Analysis_20250225_081939/Text_Files/Merged_Vos.txt'\n",
            "VosViewer conversion completed.\n",
            "\n",
            "Enrichment Options:\n",
            "1. API Enrichment\n",
            "2. ML Enrichment (Experimental)\n",
            "3. API + ML Enrichment\n",
            "4. No Enrichment\n",
            "Select enrichment method (1/2/3/4): \n",
            "Program terminating...Traceback (most recent call last):\n",
            "  File \"/content/BibexPy/DataProcessor.py\", line 315, in main\n",
            "    choice = input(\"Select enrichment method (1/2/3/4): \")\n",
            "             ^^^^^^^^^^^^^^^^^^^^^^^^^^^^^^^^^^^^^^^^^^^^^\n",
            "KeyboardInterrupt\n",
            "\n",
            "During handling of the above exception, another exception occurred:\n",
            "\n",
            "Traceback (most recent call last):\n",
            "  File \"/content/BibexPy/DataProcessor.py\", line 1330, in <module>\n",
            "    main() \n",
            "    ^^^^^^\n",
            "  File \"/content/BibexPy/DataProcessor.py\", line 1327, in main\n",
            "    print(\"\\nProgram terminating...\")\n",
            "KeyboardInterrupt\n",
            "\u001b[0m^C\n"
          ]
        }
      ]
    }
  ]
}